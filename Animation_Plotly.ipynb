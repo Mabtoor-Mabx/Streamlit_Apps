{
 "cells": [
  {
   "cell_type": "code",
   "execution_count": 11,
   "id": "dff7ebf9",
   "metadata": {},
   "outputs": [
    {
     "name": "stdout",
     "output_type": "stream",
     "text": [
      "Overwriting animation_plotly.py\n"
     ]
    }
   ],
   "source": [
    "%%writefile animation_plotly.py\n",
    "\n",
    "# Import Libraries\n",
    "\n",
    "import streamlit as st\n",
    "import plotly.express as px\n",
    "import numpy as np\n",
    "import pandas as pd\n",
    "\n",
    "# Load Datset\n",
    "\n",
    "st.title('GapMinder APP')\n",
    "st.text('Explore the dataset of Gapminder using one of the famous library of datasets called plotly')\n",
    "df = px.data.gapminder()\n",
    "st.write(df.head())\n",
    "\n",
    "# Display Features\n",
    "\n",
    "st.subheader('Displaying The Features of GapMinder Dataset')\n",
    "st.write(df.columns)\n",
    "\n",
    "\n",
    "# Summary Stat (Exploratory Data Analysis)\n",
    "\n",
    "st.subheader('Analyse The Data By Describing Dataset')\n",
    "st.write(df.describe())\n",
    "\n",
    "\n",
    "\n",
    "#Data Management\n",
    "\n",
    "year_option = df['year'].unique().tolist()\n",
    "# year = st.selectbox('Which Year of Dataset You want to plot?', year_option, 0)\n",
    "# # df= df[df['year']==year]\n",
    "\n",
    "# Plotting The Graph\n",
    "fig = px.scatter(df, x='gdpPercap',\n",
    "                 y='continent',\n",
    "                 size='pop', \n",
    "                 color='country',\n",
    "                 hover_name='country',\n",
    "                 animation_frame='year',\n",
    "                 animation_group='country',\n",
    "                 log_x=True, \n",
    "                 size_max=55,\n",
    "                 range_x=[100,10000],\n",
    "                 range_y=[20,90]\n",
    "                )\n",
    "\n",
    "st.write(fig)"
   ]
  },
  {
   "cell_type": "code",
   "execution_count": null,
   "id": "787d4123",
   "metadata": {},
   "outputs": [],
   "source": []
  }
 ],
 "metadata": {
  "kernelspec": {
   "display_name": "Python 3 (ipykernel)",
   "language": "python",
   "name": "python3"
  },
  "language_info": {
   "codemirror_mode": {
    "name": "ipython",
    "version": 3
   },
   "file_extension": ".py",
   "mimetype": "text/x-python",
   "name": "python",
   "nbconvert_exporter": "python",
   "pygments_lexer": "ipython3",
   "version": "3.9.12"
  }
 },
 "nbformat": 4,
 "nbformat_minor": 5
}
